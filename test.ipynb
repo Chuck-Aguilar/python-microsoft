{
 "cells": [
  {
   "cell_type": "code",
   "execution_count": null,
   "metadata": {
    "collapsed": true
   },
   "outputs": [],
   "source": [
    "{\"language\":\"de\",\"textAngle\":0.0,\"orientation\":\"Up\",\"regions\":[{\"boundingBox\":\"527,304,1129,415\",\"lines\":[{\"boundingBox\":\"740,304,916,232\",\"words\":[{\"boundingBox\":\"740,304,916,232\",\"text\":\"@Z\\xc3\\xb6ttf\"}]},{\"boundingBox\":\"586,587,954,58\",\"words\":[{\"boundingBox\":\"586,587,202,52\",\"text\":\"Vinzenz\"},{\"boundingBox\":\"822,590,137,52\",\"text\":\"Z\\xc3\\xb6ttl\"},{\"boundingBox\":\"996,593,544,52\",\"text\":\"B\\xc3\\xa4ckerei-Konditorei\"}]},{\"boundingBox\":\"527,643,1076,76\",\"words\":[{\"boundingBox\":\"527,643,257,55\",\"text\":\"Adi-Maisl\"},{\"boundingBox\":\"798,651,274,68\",\"text\":\"inqer-Str.\"},{\"boundingBox\":\"1118,655,71,53\",\"text\":\"12;\"},{\"boundingBox\":\"1229,655,141,48\",\"text\":\"81373\"},{\"boundingBox\":\"1402,648,201,55\",\"text\":\"M\\xc3\\xbcnchen\"}]}]},{\"boundingBox\":\"501,991,82,221\",\"lines\":[{\"boundingBox\":\"501,991,82,50\",\"words\":[{\"boundingBox\":\"501,991,82,50\",\"text\":\"Stk\"}]},{\"boundingBox\":\"507,1107,14,46\",\"words\":[{\"boundingBox\":\"507,1107,14,46\",\"text\":\"1\"}]},{\"boundingBox\":\"508,1165,14,47\",\"words\":[{\"boundingBox\":\"508,1165,14,47\",\"text\":\"1\"}]}]},{\"boundingBox\":\"678,707,691,577\",\"lines\":[{\"boundingBox\":\"822,707,518,55\",\"words\":[{\"boundingBox\":\"822,707,200,54\",\"text\":\"Filiale\"},{\"boundingBox\":\"1055,711,285,51\",\"text\":\"Fraunhofer\"}]},{\"boundingBox\":\"881,767,402,58\",\"words\":[{\"boundingBox\":\"881,767,84,50\",\"text\":\"089\"},{\"boundingBox\":\"998,770,24,55\",\"text\":\"/\"},{\"boundingBox\":\"1055,769,228,50\",\"text\":\"85631716\"}]},{\"boundingBox\":\"881,826,373,51\",\"words\":[{\"boundingBox\":\"881,826,281,51\",\"text\":\"www.zoettl\"},{\"boundingBox\":\"1178,864,10,12\",\"text\":\",\"},{\"boundingBox\":\"1200,827,54,50\",\"text\":\"de\"}]},{\"boundingBox\":\"678,996,316,51\",\"words\":[{\"boundingBox\":\"678,996,316,51\",\"text\":\"Artikelname\"}]},{\"boundingBox\":\"678,1109,230,50\",\"words\":[{\"boundingBox\":\"678,1109,230,50\",\"text\":\"Rusticus\"}]},{\"boundingBox\":\"679,1165,489,60\",\"words\":[{\"boundingBox\":\"679,1165,142,60\",\"text\":\"Belag\"},{\"boundingBox\":\"854,1168,314,49\",\"text\":\"Frischkaese\"}]},{\"boundingBox\":\"679,1225,690,59\",\"words\":[{\"boundingBox\":\"679,1225,171,47\",\"text\":\"Hei\\xc3\\x9fes\"},{\"boundingBox\":\"882,1225,228,49\",\"text\":\"H\\xc3\\xa4hnchen\"},{\"boundingBox\":\"1142,1227,227,57\",\"text\":\"Baguette\"}]}]},{\"boundingBox\":\"503,1337,435,1137\",\"lines\":[{\"boundingBox\":\"504,1337,318,50\",\"words\":[{\"boundingBox\":\"504,1337,318,50\",\"text\":\"Gesamtsumme\"}]},{\"boundingBox\":\"510,1508,283,49\",\"words\":[{\"boundingBox\":\"510,1508,132,48\",\"text\":\"inkl.\"},{\"boundingBox\":\"681,1510,112,47\",\"text\":\"MwSt\"}]},{\"boundingBox\":\"506,1620,369,50\",\"words\":[{\"boundingBox\":\"506,1620,369,50\",\"text\":\"Artik\\xc3\\xa9lanz\\xc3\\xa5hl\"}]},{\"boundingBox\":\"505,1794,203,48\",\"words\":[{\"boundingBox\":\"505,1794,203,48\",\"text\":\"GEGEBEN\"}]},{\"boundingBox\":\"505,1849,232,50\",\"words\":[{\"boundingBox\":\"505,1849,232,50\",\"text\":\"R\\xc3\\x9cCKGELD\"}]},{\"boundingBox\":\"505,2075,433,51\",\"words\":[{\"boundingBox\":\"505,2079,56,47\",\"text\":\"Es\"},{\"boundingBox\":\"594,2075,230,48\",\"text\":\"bediente\"},{\"boundingBox\":\"855,2075,83,47\",\"text\":\"Sie\"}]},{\"boundingBox\":\"505,2190,369,56\",\"words\":[{\"boundingBox\":\"505,2190,369,56\",\"text\":\"Rechnungsnr..\"}]},{\"boundingBox\":\"505,2250,144,50\",\"words\":[{\"boundingBox\":\"505,2250,144,50\",\"text\":\"Datum\"}]},{\"boundingBox\":\"504,2362,369,54\",\"words\":[{\"boundingBox\":\"504,2362,369,54\",\"text\":\"Filialnummer:\"}]},{\"boundingBox\":\"503,2426,370,48\",\"words\":[{\"boundingBox\":\"503,2426,348,48\",\"text\":\"Kassennummer\"},{\"boundingBox\":\"862,2430,11,36\",\"text\":\":\"}]}]},{\"boundingBox\":\"1546,1111,114,794\",\"lines\":[{\"boundingBox\":\"1546,1111,114,52\",\"words\":[{\"boundingBox\":\"1546,1111,114,52\",\"text\":\"0,70\"}]},{\"boundingBox\":\"1552,1169,108,52\",\"words\":[{\"boundingBox\":\"1552,1169,108,52\",\"text\":\"1,98\"}]},{\"boundingBox\":\"1546,1225,113,53\",\"words\":[{\"boundingBox\":\"1546,1225,113,53\",\"text\":\"3,85\"}]},{\"boundingBox\":\"1546,1340,113,53\",\"words\":[{\"boundingBox\":\"1546,1340,113,53\",\"text\":\"6,53\"}]},{\"boundingBox\":\"1546,1511,113,51\",\"words\":[{\"boundingBox\":\"1546,1511,113,51\",\"text\":\"0,43\"}]},{\"boundingBox\":\"1546,1854,112,51\",\"words\":[{\"boundingBox\":\"1546,1854,112,51\",\"text\":\"3,47\"}]}]},{\"boundingBox\":\"969,2075,424,392\",\"lines\":[{\"boundingBox\":\"970,2075,423,49\",\"words\":[{\"boundingBox\":\"970,2075,140,47\",\"text\":\"Karin\"},{\"boundingBox\":\"1141,2076,252,48\",\"text\":\"Houssaini\"}]},{\"boundingBox\":\"975,2188,336,49\",\"words\":[{\"boundingBox\":\"975,2188,221,48\",\"text\":\"10032016\"},{\"boundingBox\":\"1233,2189,78,48\",\"text\":\"170\"}]},{\"boundingBox\":\"975,2245,279,50\",\"words\":[{\"boundingBox\":\"975,2245,279,50\",\"text\":\"10.03.2016\"}]},{\"boundingBox\":\"969,2342,113,67\",\"words\":[{\"boundingBox\":\"969,2342,113,67\",\"text\":\"90i6\"}]},{\"boundingBox\":\"970,2419,25,48\",\"words\":[{\"boundingBox\":\"970,2419,25,48\",\"text\":\"2\"}]}]},{\"boundingBox\":\"591,2589,974,57\",\"lines\":[{\"boundingBox\":\"591,2589,974,57\",\"words\":[{\"boundingBox\":\"591,2590,139,54\",\"text\":\"Herzl\"},{\"boundingBox\":\"744,2589,136,50\",\"text\":\"ichen\"},{\"boundingBox\":\"911,2589,110,49\",\"text\":\"Dank\"},{\"boundingBox\":\"1059,2591,79,49\",\"text\":\"f\\xc3\\xbcr\"},{\"boundingBox\":\"1176,2591,136,51\",\"text\":\"Ihren\"},{\"boundingBox\":\"1344,2594,221,52\",\"text\":\"Einkauf.\"}]}]}]}'"
   ]
  },
  {
   "cell_type": "code",
   "execution_count": null,
   "metadata": {},
   "outputs": [],
   "source": [
    "x = 0\n",
    "y = 3\n",
    "print(x+y)"
   ]
  },
  {
   "cell_type": "code",
   "execution_count": null,
   "metadata": {},
   "outputs": [],
   "source": [
    ""
   ]
  },
  {
   "cell_type": "code",
   "execution_count": null,
   "metadata": {},
   "outputs": [],
   "source": [
    ""
   ]
  }
 ],
 "metadata": {
  "kernelspec": {
   "display_name": "Python 2",
   "language": "python",
   "name": "python2"
  },
  "language_info": {
   "codemirror_mode": {
    "name": "ipython",
    "version": 2.0
   },
   "file_extension": ".py",
   "mimetype": "text/x-python",
   "name": "python",
   "nbconvert_exporter": "python",
   "pygments_lexer": "ipython2",
   "version": "2.7.6"
  }
 },
 "nbformat": 4,
 "nbformat_minor": 0
}